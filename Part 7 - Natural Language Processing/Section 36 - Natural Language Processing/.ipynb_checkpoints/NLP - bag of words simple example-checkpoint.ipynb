{
 "cells": [
  {
   "cell_type": "code",
   "execution_count": 1,
   "metadata": {},
   "outputs": [],
   "source": [
    "import numpy as np\n",
    "import matplotlib.pyplot as plt\n",
    "import pandas as pd\n",
    "import re\n",
    "import nltk\n",
    "from nltk.corpus import stopwords\n",
    "from nltk.stem.porter import PorterStemmer"
   ]
  },
  {
   "cell_type": "code",
   "execution_count": 2,
   "metadata": {},
   "outputs": [],
   "source": [
    "import warnings\n",
    "from sklearn.exceptions import DataConversionWarning\n",
    "warnings.filterwarnings(action='ignore', category=DataConversionWarning)"
   ]
  },
  {
   "cell_type": "markdown",
   "metadata": {},
   "source": [
    "# Read dataset and remove quotes from it"
   ]
  },
  {
   "cell_type": "code",
   "execution_count": 3,
   "metadata": {},
   "outputs": [
    {
     "data": {
      "text/html": [
       "<div>\n",
       "<style scoped>\n",
       "    .dataframe tbody tr th:only-of-type {\n",
       "        vertical-align: middle;\n",
       "    }\n",
       "\n",
       "    .dataframe tbody tr th {\n",
       "        vertical-align: top;\n",
       "    }\n",
       "\n",
       "    .dataframe thead th {\n",
       "        text-align: right;\n",
       "    }\n",
       "</style>\n",
       "<table border=\"1\" class=\"dataframe\">\n",
       "  <thead>\n",
       "    <tr style=\"text-align: right;\">\n",
       "      <th></th>\n",
       "      <th>Review</th>\n",
       "      <th>Liked</th>\n",
       "    </tr>\n",
       "  </thead>\n",
       "  <tbody>\n",
       "    <tr>\n",
       "      <th>0</th>\n",
       "      <td>Wow... Loved this place.</td>\n",
       "      <td>1</td>\n",
       "    </tr>\n",
       "    <tr>\n",
       "      <th>1</th>\n",
       "      <td>Crust is not good.</td>\n",
       "      <td>0</td>\n",
       "    </tr>\n",
       "    <tr>\n",
       "      <th>2</th>\n",
       "      <td>Not tasty and the texture was just nasty.</td>\n",
       "      <td>0</td>\n",
       "    </tr>\n",
       "  </tbody>\n",
       "</table>\n",
       "</div>"
      ],
      "text/plain": [
       "                                      Review  Liked\n",
       "0                   Wow... Loved this place.      1\n",
       "1                         Crust is not good.      0\n",
       "2  Not tasty and the texture was just nasty.      0"
      ]
     },
     "execution_count": 3,
     "metadata": {},
     "output_type": "execute_result"
    }
   ],
   "source": [
    "dataset = pd.read_csv(filepath_or_buffer=r'Restaurant_Reviews.tsv', delimiter='\\t', quoting=3)\n",
    "dataset.head(3)"
   ]
  },
  {
   "cell_type": "markdown",
   "metadata": {},
   "source": [
    "# Clean the text"
   ]
  },
  {
   "cell_type": "code",
   "execution_count": 4,
   "metadata": {},
   "outputs": [],
   "source": [
    "def clean_data(data : str):\n",
    "    # takes only alphabets\n",
    "    data = re.sub(pattern='[^a-zA-Z]', repl=' ', string=data)\n",
    "    # converts every alphabets to lower case\n",
    "    data = data.lower()\n",
    "    # filter out stop-words and convert words to its root tense\n",
    "    data = data.split()\n",
    "    ps = PorterStemmer()\n",
    "    data = [ps.stem(word) for word in data if not word in set(stopwords.words('english'))]\n",
    "    return ' '.join(data)"
   ]
  },
  {
   "cell_type": "code",
   "execution_count": 5,
   "metadata": {},
   "outputs": [
    {
     "data": {
      "text/html": [
       "<div>\n",
       "<style scoped>\n",
       "    .dataframe tbody tr th:only-of-type {\n",
       "        vertical-align: middle;\n",
       "    }\n",
       "\n",
       "    .dataframe tbody tr th {\n",
       "        vertical-align: top;\n",
       "    }\n",
       "\n",
       "    .dataframe thead th {\n",
       "        text-align: right;\n",
       "    }\n",
       "</style>\n",
       "<table border=\"1\" class=\"dataframe\">\n",
       "  <thead>\n",
       "    <tr style=\"text-align: right;\">\n",
       "      <th></th>\n",
       "      <th>Review</th>\n",
       "      <th>Liked</th>\n",
       "    </tr>\n",
       "  </thead>\n",
       "  <tbody>\n",
       "    <tr>\n",
       "      <th>0</th>\n",
       "      <td>wow love place</td>\n",
       "      <td>1</td>\n",
       "    </tr>\n",
       "    <tr>\n",
       "      <th>1</th>\n",
       "      <td>crust good</td>\n",
       "      <td>0</td>\n",
       "    </tr>\n",
       "    <tr>\n",
       "      <th>2</th>\n",
       "      <td>tasti textur nasti</td>\n",
       "      <td>0</td>\n",
       "    </tr>\n",
       "  </tbody>\n",
       "</table>\n",
       "</div>"
      ],
      "text/plain": [
       "               Review  Liked\n",
       "0      wow love place      1\n",
       "1          crust good      0\n",
       "2  tasti textur nasti      0"
      ]
     },
     "execution_count": 5,
     "metadata": {},
     "output_type": "execute_result"
    }
   ],
   "source": [
    "dataset['Review'] = dataset['Review'].apply(clean_data)\n",
    "dataset.head(3)"
   ]
  },
  {
   "cell_type": "markdown",
   "metadata": {},
   "source": [
    "# Creating the Bag of Words model"
   ]
  },
  {
   "cell_type": "code",
   "execution_count": 6,
   "metadata": {},
   "outputs": [],
   "source": [
    "from sklearn.feature_extraction.text import CountVectorizer"
   ]
  },
  {
   "cell_type": "code",
   "execution_count": 7,
   "metadata": {},
   "outputs": [],
   "source": [
    "cv = CountVectorizer(max_features = 1600)\n",
    "X = cv.fit_transform(dataset['Review']).toarray()\n",
    "y = dataset.iloc[:, 1].values"
   ]
  },
  {
   "cell_type": "markdown",
   "metadata": {},
   "source": [
    "# Splitting the dataset into the Training set and Test set"
   ]
  },
  {
   "cell_type": "code",
   "execution_count": 8,
   "metadata": {},
   "outputs": [],
   "source": [
    "from sklearn.model_selection import train_test_split"
   ]
  },
  {
   "cell_type": "code",
   "execution_count": 9,
   "metadata": {},
   "outputs": [],
   "source": [
    "X_train, X_test, y_train, y_test = train_test_split(X, y, test_size = 0.20, random_state = 0)"
   ]
  },
  {
   "cell_type": "markdown",
   "metadata": {},
   "source": [
    "# Fitting Naive Bayes to the Training set"
   ]
  },
  {
   "cell_type": "code",
   "execution_count": 10,
   "metadata": {},
   "outputs": [],
   "source": [
    "from sklearn.naive_bayes import GaussianNB"
   ]
  },
  {
   "cell_type": "code",
   "execution_count": 11,
   "metadata": {},
   "outputs": [
    {
     "data": {
      "text/plain": [
       "GaussianNB(priors=None, var_smoothing=1e-09)"
      ]
     },
     "execution_count": 11,
     "metadata": {},
     "output_type": "execute_result"
    }
   ],
   "source": [
    "classifier_NB = GaussianNB()\n",
    "classifier_NB.fit(X_train, y_train)"
   ]
  },
  {
   "cell_type": "markdown",
   "metadata": {},
   "source": [
    "## Predicting the Test set results"
   ]
  },
  {
   "cell_type": "code",
   "execution_count": 12,
   "metadata": {},
   "outputs": [],
   "source": [
    "y_pred = classifier_NB.predict(X_test)"
   ]
  },
  {
   "cell_type": "markdown",
   "metadata": {},
   "source": [
    "# Making the Confusion Matrix Naive Bayes"
   ]
  },
  {
   "cell_type": "code",
   "execution_count": 13,
   "metadata": {},
   "outputs": [],
   "source": [
    "from sklearn.metrics import plot_confusion_matrix"
   ]
  },
  {
   "cell_type": "code",
   "execution_count": 14,
   "metadata": {},
   "outputs": [
    {
     "data": {
      "image/png": "[encoded data removed]",
      "text/plain": [
       "<Figure size 432x288 with 2 Axes>"
      ]
     },
     "metadata": {
      "needs_background": "light"
     },
     "output_type": "display_data"
    }
   ],
   "source": [
    "disp = plot_confusion_matrix(classifier_NB, X_test, y_test,\n",
    "                                 cmap=plt.cm.Greens,\n",
    "                            display_labels = ['Good Review', 'Bad Review'])"
   ]
  },
  {
   "cell_type": "markdown",
   "metadata": {},
   "source": [
    "# Feature scaling"
   ]
  },
  {
   "cell_type": "code",
   "execution_count": 15,
   "metadata": {},
   "outputs": [],
   "source": [
    "from sklearn.preprocessing import StandardScaler"
   ]
  },
  {
   "cell_type": "code",
   "execution_count": 16,
   "metadata": {},
   "outputs": [
    {
     "data": {
      "text/plain": [
       "StandardScaler(copy=True, with_mean=True, with_std=True)"
      ]
     },
     "execution_count": 16,
     "metadata": {},
     "output_type": "execute_result"
    }
   ],
   "source": [
    "sc_X = StandardScaler()\n",
    "sc_y = StandardScaler()\n",
    "sc_X.fit(X)\n",
    "sc_y.fit(y.reshape(-1, 1))"
   ]
  },
  {
   "cell_type": "markdown",
   "metadata": {},
   "source": [
    "## Fitting Logistic Classifier to the Training set"
   ]
  },
  {
   "cell_type": "code",
   "execution_count": 17,
   "metadata": {},
   "outputs": [],
   "source": [
    "from sklearn.linear_model import LogisticRegression"
   ]
  },
  {
   "cell_type": "code",
   "execution_count": 18,
   "metadata": {},
   "outputs": [
    {
     "name": "stderr",
     "output_type": "stream",
     "text": [
      "C:\\Anaconda\\lib\\site-packages\\sklearn\\linear_model\\_sag.py:330: ConvergenceWarning: The max_iter was reached which means the coef_ did not converge\n",
      "  \"the coef_ did not converge\", ConvergenceWarning)\n"
     ]
    },
    {
     "data": {
      "text/plain": [
       "LogisticRegression(C=3, class_weight=None, dual=False, fit_intercept=True,\n",
       "                   intercept_scaling=1, l1_ratio=None, max_iter=100,\n",
       "                   multi_class='auto', n_jobs=None, penalty='l2',\n",
       "                   random_state=None, solver='sag', tol=0.0001, verbose=0,\n",
       "                   warm_start=False)"
      ]
     },
     "execution_count": 18,
     "metadata": {},
     "output_type": "execute_result"
    }
   ],
   "source": [
    "classifier_Logistic = LogisticRegression(C=3, solver='sag')\n",
    "classifier_Logistic.fit(sc_X.transform(X_train), sc_y.transform(y_train.reshape(-1, 1)))"
   ]
  },
  {
   "cell_type": "code",
   "execution_count": 19,
   "metadata": {},
   "outputs": [
    {
     "data": {
      "image/png": "[encoded data removed]",
      "text/plain": [
       "<Figure size 432x288 with 2 Axes>"
      ]
     },
     "metadata": {
      "needs_background": "light"
     },
     "output_type": "display_data"
    }
   ],
   "source": [
    "disp = plot_confusion_matrix(classifier_Logistic, sc_X.transform(X_test), sc_y.transform(y_test.reshape(-1, 1)),\n",
    "                                 cmap=plt.cm.Blues,\n",
    "                            display_labels = ['Good Review', 'Bad Review'])"
   ]
  },
  {
   "cell_type": "markdown",
   "metadata": {},
   "source": [
    "# Fitting SVM to the Training set"
   ]
  },
  {
   "cell_type": "code",
   "execution_count": 20,
   "metadata": {},
   "outputs": [],
   "source": [
    "from sklearn.svm import SVC"
   ]
  },
  {
   "cell_type": "code",
   "execution_count": 21,
   "metadata": {},
   "outputs": [
    {
     "data": {
      "text/plain": [
       "SVC(C=1, break_ties=False, cache_size=200, class_weight=None, coef0=0.0,\n",
       "    decision_function_shape='ovr', degree=1, gamma='scale', kernel='poly',\n",
       "    max_iter=-1, probability=False, random_state=None, shrinking=True,\n",
       "    tol=0.001, verbose=False)"
      ]
     },
     "execution_count": 21,
     "metadata": {},
     "output_type": "execute_result"
    }
   ],
   "source": [
    "classifier_svc = SVC(kernel = 'poly', degree=1, C=1)\n",
    "classifier_svc.fit(sc_X.transform(X_train), sc_y.transform(y_train.reshape(-1,1)))"
   ]
  },
  {
   "cell_type": "code",
   "execution_count": 22,
   "metadata": {},
   "outputs": [
    {
     "data": {
      "image/png": "[encoded data removed]",
      "text/plain": [
       "<Figure size 432x288 with 2 Axes>"
      ]
     },
     "metadata": {
      "needs_background": "light"
     },
     "output_type": "display_data"
    }
   ],
   "source": [
    "disp = plot_confusion_matrix(classifier_svc, sc_X.transform(X_test), sc_y.transform(y_test.reshape(-1,1)),\n",
    "                                 cmap=plt.cm.Reds,\n",
    "                            display_labels = ['Good Review', 'Bad Review'])"
   ]
  },
  {
   "cell_type": "markdown",
   "metadata": {},
   "source": [
    "## Fitting Decision Tree to the Training set"
   ]
  },
  {
   "cell_type": "code",
   "execution_count": 23,
   "metadata": {},
   "outputs": [],
   "source": [
    "from sklearn.tree import DecisionTreeClassifier"
   ]
  },
  {
   "cell_type": "code",
   "execution_count": 24,
   "metadata": {},
   "outputs": [
    {
     "data": {
      "text/plain": [
       "DecisionTreeClassifier(ccp_alpha=0.0, class_weight=None, criterion='entropy',\n",
       "                       max_depth=None, max_features=None, max_leaf_nodes=None,\n",
       "                       min_impurity_decrease=0.0, min_impurity_split=None,\n",
       "                       min_samples_leaf=1, min_samples_split=2,\n",
       "                       min_weight_fraction_leaf=0.0, presort='deprecated',\n",
       "                       random_state=None, splitter='best')"
      ]
     },
     "execution_count": 24,
     "metadata": {},
     "output_type": "execute_result"
    }
   ],
   "source": [
    "classifier_tree = DecisionTreeClassifier(criterion='entropy')\n",
    "classifier_tree.fit(X_train, y_train)"
   ]
  },
  {
   "cell_type": "code",
   "execution_count": 25,
   "metadata": {},
   "outputs": [
    {
     "data": {
      "image/png": "[encoded data removed]",
      "text/plain": [
       "<Figure size 432x288 with 2 Axes>"
      ]
     },
     "metadata": {
      "needs_background": "light"
     },
     "output_type": "display_data"
    }
   ],
   "source": [
    "disp = plot_confusion_matrix(classifier_tree, X_test, y_test,\n",
    "                            display_labels = ['Good Review', 'Bad Review'])"
   ]
  },
  {
   "cell_type": "markdown",
   "metadata": {},
   "source": [
    "## Fitting Random Forest to the Training set"
   ]
  },
  {
   "cell_type": "code",
   "execution_count": 26,
   "metadata": {},
   "outputs": [],
   "source": [
    "from sklearn.ensemble import RandomForestClassifier"
   ]
  },
  {
   "cell_type": "code",
   "execution_count": 27,
   "metadata": {},
   "outputs": [
    {
     "data": {
      "text/plain": [
       "RandomForestClassifier(bootstrap=True, ccp_alpha=0.0, class_weight=None,\n",
       "                       criterion='entropy', max_depth=None, max_features='auto',\n",
       "                       max_leaf_nodes=None, max_samples=None,\n",
       "                       min_impurity_decrease=0.0, min_impurity_split=None,\n",
       "                       min_samples_leaf=1, min_samples_split=2,\n",
       "                       min_weight_fraction_leaf=0.0, n_estimators=200,\n",
       "                       n_jobs=None, oob_score=False, random_state=None,\n",
       "                       verbose=0, warm_start=False)"
      ]
     },
     "execution_count": 27,
     "metadata": {},
     "output_type": "execute_result"
    }
   ],
   "source": [
    "classifier_forest = RandomForestClassifier(n_estimators=200, criterion='entropy')\n",
    "classifier_forest.fit(X_train, y_train)"
   ]
  },
  {
   "cell_type": "code",
   "execution_count": 28,
   "metadata": {},
   "outputs": [
    {
     "data": {
      "image/png": "[encoded data removed]",
      "text/plain": [
       "<Figure size 432x288 with 2 Axes>"
      ]
     },
     "metadata": {
      "needs_background": "light"
     },
     "output_type": "display_data"
    }
   ],
   "source": [
    "disp = plot_confusion_matrix(classifier_forest, X_test, y_test,\n",
    "                                 cmap=plt.cm.YlGn,\n",
    "                            display_labels = ['Good Review', 'Bad Review'])"
   ]
  },
  {
   "cell_type": "markdown",
   "metadata": {},
   "source": [
    "## Fitting KNN to the Training set"
   ]
  },
  {
   "cell_type": "code",
   "execution_count": 29,
   "metadata": {},
   "outputs": [],
   "source": [
    "from sklearn.neighbors import KNeighborsClassifier"
   ]
  },
  {
   "cell_type": "code",
   "execution_count": 30,
   "metadata": {},
   "outputs": [
    {
     "data": {
      "text/plain": [
       "KNeighborsClassifier(algorithm='auto', leaf_size=30, metric='minkowski',\n",
       "                     metric_params=None, n_jobs=None, n_neighbors=3, p=2,\n",
       "                     weights='uniform')"
      ]
     },
     "execution_count": 30,
     "metadata": {},
     "output_type": "execute_result"
    }
   ],
   "source": [
    "classifier_knn = KNeighborsClassifier(n_neighbors=3, metric='minkowski')\n",
    "classifier_knn.fit(sc_X.transform(X_train), sc_y.transform(y_train.reshape(-1,1)))"
   ]
  },
  {
   "cell_type": "code",
   "execution_count": 31,
   "metadata": {},
   "outputs": [
    {
     "data": {
      "image/png": "[encoded data removed]",
      "text/plain": [
       "<Figure size 432x288 with 2 Axes>"
      ]
     },
     "metadata": {
      "needs_background": "light"
     },
     "output_type": "display_data"
    }
   ],
   "source": [
    "disp = plot_confusion_matrix(classifier_knn, sc_X.transform(X_test), sc_y.transform(y_test.reshape(-1,1)),\n",
    "                            display_labels = ['Good Review', 'Bad Review'])"
   ]
  },
  {
   "cell_type": "markdown",
   "metadata": {},
   "source": [
    "# Model Accuracies"
   ]
  },
  {
   "cell_type": "code",
   "execution_count": 32,
   "metadata": {},
   "outputs": [],
   "source": [
    "from sklearn.metrics import precision_score\n",
    "from sklearn.metrics import accuracy_score\n",
    "from sklearn.metrics import f1_score\n",
    "from sklearn.metrics import recall_score"
   ]
  },
  {
   "cell_type": "code",
   "execution_count": 33,
   "metadata": {},
   "outputs": [
    {
     "name": "stdout",
     "output_type": "stream",
     "text": [
      "Logistic regression\n",
      "F1-Score 0.7669902912621359\n",
      "Precision 0.7669902912621359\n",
      "Accuracy 0.76\n",
      "Recall 0.7669902912621359\n"
     ]
    }
   ],
   "source": [
    "print('Logistic regression')\n",
    "print('F1-Score', f1_score(y_true = y_test, y_pred = sc_y.inverse_transform(classifier_Logistic.predict(sc_X.transform(X_test)))))\n",
    "print('Precision', precision_score(y_true = y_test, y_pred = sc_y.inverse_transform(classifier_Logistic.predict(sc_X.transform(X_test)))))\n",
    "print('Accuracy', accuracy_score(y_true = y_test, y_pred = sc_y.inverse_transform(classifier_Logistic.predict(sc_X.transform(X_test)))))\n",
    "print('Recall', recall_score(y_true = y_test, y_pred = sc_y.inverse_transform(classifier_Logistic.predict(sc_X.transform(X_test)))))"
   ]
  },
  {
   "cell_type": "code",
   "execution_count": 34,
   "metadata": {},
   "outputs": [
    {
     "name": "stdout",
     "output_type": "stream",
     "text": [
      "KNN\n",
      "F1-Score 0.6054054054054056\n",
      "Precision 0.6829268292682927\n",
      "Accuracy 0.635\n"
     ]
    }
   ],
   "source": [
    "print('KNN')\n",
    "print('F1-Score', f1_score(y_true = y_test, y_pred = sc_y.inverse_transform(classifier_knn.predict(sc_X.transform(X_test)))))\n",
    "print('Precision', precision_score(y_true = y_test, y_pred = sc_y.inverse_transform(classifier_knn.predict(sc_X.transform(X_test)))))\n",
    "print('Accuracy', accuracy_score(y_true = y_test, y_pred = sc_y.inverse_transform(classifier_knn.predict(sc_X.transform(X_test)))))"
   ]
  },
  {
   "cell_type": "code",
   "execution_count": 35,
   "metadata": {},
   "outputs": [
    {
     "name": "stdout",
     "output_type": "stream",
     "text": [
      "Kernal SVM\n",
      "F1-Score 0.7864077669902912\n",
      "Precision 0.7864077669902912\n",
      "Accuracy 0.78\n"
     ]
    }
   ],
   "source": [
    "print('Kernal SVM')\n",
    "print('F1-Score', f1_score(y_true = y_test, y_pred = sc_y.inverse_transform(classifier_svc.predict(sc_X.transform(X_test)))))\n",
    "print('Precision', precision_score(y_true = y_test, y_pred = sc_y.inverse_transform(classifier_svc.predict(sc_X.transform(X_test)))))\n",
    "print('Accuracy', accuracy_score(y_true = y_test, y_pred = sc_y.inverse_transform(classifier_svc.predict(sc_X.transform(X_test)))))"
   ]
  },
  {
   "cell_type": "code",
   "execution_count": 36,
   "metadata": {},
   "outputs": [
    {
     "name": "stdout",
     "output_type": "stream",
     "text": [
      "Decision Tree\n",
      "F1-Score 0.6804123711340206\n",
      "Precision 0.7252747252747253\n",
      "Accuracy 0.69\n"
     ]
    }
   ],
   "source": [
    "print('Decision Tree')\n",
    "print('F1-Score', f1_score(y_true = y_test, y_pred = classifier_tree.predict(X_test)))\n",
    "print('Precision', precision_score(y_true = y_test, y_pred = classifier_tree.predict(X_test)))\n",
    "print('Accuracy', accuracy_score(y_true = y_test, y_pred = classifier_tree.predict(X_test)))"
   ]
  },
  {
   "cell_type": "code",
   "execution_count": 37,
   "metadata": {},
   "outputs": [
    {
     "name": "stdout",
     "output_type": "stream",
     "text": [
      "Random Forest\n",
      "F1-Score 0.6428571428571429\n",
      "Precision 0.8307692307692308\n",
      "Accuracy 0.7\n",
      "Recall 0.5242718446601942\n"
     ]
    }
   ],
   "source": [
    "print('Random Forest')\n",
    "print('F1-Score', f1_score(y_true = y_test, y_pred = classifier_forest.predict(X_test)))\n",
    "print('Precision', precision_score(y_true = y_test, y_pred = classifier_forest.predict(X_test)))\n",
    "print('Accuracy', accuracy_score(y_true = y_test, y_pred = classifier_forest.predict(X_test)))\n",
    "print('Recall', recall_score(y_true = y_test, y_pred = classifier_forest.predict(X_test)))"
   ]
  },
  {
   "cell_type": "markdown",
   "metadata": {},
   "source": [
    "### As Logistic & SVM are good, Lets find out which one gies good performance after Grid tunning"
   ]
  },
  {
   "cell_type": "markdown",
   "metadata": {},
   "source": [
    "# Logistic grid search"
   ]
  },
  {
   "cell_type": "code",
   "execution_count": 38,
   "metadata": {},
   "outputs": [],
   "source": [
    "from sklearn.model_selection import GridSearchCV"
   ]
  },
  {
   "cell_type": "code",
   "execution_count": 39,
   "metadata": {},
   "outputs": [
    {
     "name": "stderr",
     "output_type": "stream",
     "text": [
      "C:\\Anaconda\\lib\\site-packages\\sklearn\\linear_model\\_sag.py:330: ConvergenceWarning: The max_iter was reached which means the coef_ did not converge\n",
      "  \"the coef_ did not converge\", ConvergenceWarning)\n"
     ]
    }
   ],
   "source": [
    "parameters = [{'C' : [2,3,4]},\n",
    "              {'solver' : ['sag', 'saga']},\n",
    "              {'max_iter' : [100, 300, 500]},\n",
    "              {'penalty' : ['l1', 'l2', 'elasticnet']}\n",
    "             ]\n",
    "classifier_Logistic = LogisticRegression(C=3, solver='sag')\n",
    "search_logistic = GridSearchCV(estimator=classifier_Logistic, param_grid=parameters, cv=5, n_jobs=-1)\n",
    "result_logistic = search_logistic.fit(X=sc_X.transform(X_train), y=sc_y.transform(y_train.reshape(-1, 1)))"
   ]
  },
  {
   "cell_type": "code",
   "execution_count": 40,
   "metadata": {},
   "outputs": [
    {
     "name": "stdout",
     "output_type": "stream",
     "text": [
      "Logistic Tunned model\n",
      "F1-Score 0.7788461538461539\n",
      "Precision 0.7714285714285715\n",
      "Accuracy 0.77\n",
      "Recall 0.7864077669902912\n"
     ]
    }
   ],
   "source": [
    "print('Logistic Tunned model')\n",
    "print('F1-Score', f1_score(y_true = y_test, y_pred = sc_y.inverse_transform(search_logistic.best_estimator_.predict(sc_X.transform(X_test)))))\n",
    "print('Precision', precision_score(y_true = y_test, y_pred = sc_y.inverse_transform(search_logistic.best_estimator_.predict(sc_X.transform(X_test)))))\n",
    "print('Accuracy', accuracy_score(y_true = y_test, y_pred = sc_y.inverse_transform(search_logistic.best_estimator_.predict(sc_X.transform(X_test)))))\n",
    "print('Recall', recall_score(y_true = y_test, y_pred = sc_y.inverse_transform(search_logistic.best_estimator_.predict(sc_X.transform(X_test)))))"
   ]
  },
  {
   "cell_type": "markdown",
   "metadata": {},
   "source": [
    "# KSVM Grid search"
   ]
  },
  {
   "cell_type": "code",
   "execution_count": 41,
   "metadata": {},
   "outputs": [],
   "source": [
    "parameters_svc = [{'C' : [1,2]},\n",
    "              {'kernel' : ['poly']},\n",
    "                  {'degree' : [1]},\n",
    "              {'decision_function_shape' : ['ovo', 'ovr']}\n",
    "             ]\n",
    "\n",
    "classifier_svc_g_search = SVC(kernel = 'poly')\n",
    "search_scv = GridSearchCV(estimator=classifier_svc_g_search, param_grid=parameters_svc, cv=5, n_jobs=-1)\n",
    "result_KSVM =search_scv.fit(X=sc_X.transform(X_train), y=sc_y.transform(y_train.reshape(-1, 1)))"
   ]
  },
  {
   "cell_type": "code",
   "execution_count": 42,
   "metadata": {},
   "outputs": [
    {
     "name": "stdout",
     "output_type": "stream",
     "text": [
      "Kernal SVM Tunned\n",
      "F1-Score 0.7864077669902912\n",
      "Precision 0.7864077669902912\n",
      "Accuracy 0.78\n",
      "Recall 0.7864077669902912\n"
     ]
    }
   ],
   "source": [
    "print('Kernal SVM Tunned')\n",
    "print('F1-Score', f1_score(y_true = y_test, y_pred = sc_y.inverse_transform(search_scv.best_estimator_.predict(sc_X.transform(X_test)))))\n",
    "print('Precision', precision_score(y_true = y_test, y_pred = sc_y.inverse_transform(search_scv.best_estimator_.predict(sc_X.transform(X_test)))))\n",
    "print('Accuracy', accuracy_score(y_true = y_test, y_pred = sc_y.inverse_transform(search_scv.best_estimator_.predict(sc_X.transform(X_test)))))\n",
    "print('Recall', recall_score(y_true = y_test, y_pred = sc_y.inverse_transform(search_scv.best_estimator_.predict(sc_X.transform(X_test)))))"
   ]
  },
  {
   "cell_type": "code",
   "execution_count": 43,
   "metadata": {
    "scrolled": true
   },
   "outputs": [
    {
     "data": {
      "text/plain": [
       "SVC(C=1.0, break_ties=False, cache_size=200, class_weight=None, coef0=0.0,\n",
       "    decision_function_shape='ovr', degree=1, gamma='scale', kernel='poly',\n",
       "    max_iter=-1, probability=False, random_state=None, shrinking=True,\n",
       "    tol=0.001, verbose=False)"
      ]
     },
     "execution_count": 43,
     "metadata": {},
     "output_type": "execute_result"
    }
   ],
   "source": [
    "search_scv.best_estimator_"
   ]
  },
  {
   "cell_type": "markdown",
   "metadata": {},
   "source": [
    "# K-Fold validation for the final tunned model"
   ]
  },
  {
   "cell_type": "code",
   "execution_count": 47,
   "metadata": {},
   "outputs": [],
   "source": [
    "from sklearn.model_selection import cross_val_score\n",
    "from sklearn.metrics import make_scorer"
   ]
  },
  {
   "cell_type": "code",
   "execution_count": 55,
   "metadata": {},
   "outputs": [],
   "source": [
    "classifier_cv = SVC(C=1.0, break_ties=False, cache_size=200, class_weight=None, coef0=0.0,\n",
    "    decision_function_shape='ovr', degree=1, gamma='scale', kernel='poly',\n",
    "    max_iter=-1, probability=False, random_state=None, shrinking=True,\n",
    "    tol=0.001, verbose=False)\n",
    "precision_scorer = make_scorer(score_func=precision_score, greater_is_better=True)\n",
    "F1_scorer = make_scorer(score_func=f1_score, greater_is_better=True)\n",
    "recall_scorer = make_scorer(score_func=recall_score, greater_is_better=True)\n",
    "accuracy_scorer = make_scorer(score_func=accuracy_score, greater_is_better=True)"
   ]
  },
  {
   "cell_type": "code",
   "execution_count": 65,
   "metadata": {},
   "outputs": [
    {
     "name": "stdout",
     "output_type": "stream",
     "text": [
      "Precision might be : 0.729\n"
     ]
    }
   ],
   "source": [
    "scores = cross_val_score(estimator=search_scv.best_estimator_, X=sc_X.transform(X), y=sc_y.transform(y.reshape(-1, 1)), cv=5, scoring=precision_scorer)\n",
    "print('Precision might be : {:.3f}'.format(scores.mean()))"
   ]
  },
  {
   "cell_type": "code",
   "execution_count": 62,
   "metadata": {},
   "outputs": [
    {
     "name": "stdout",
     "output_type": "stream",
     "text": [
      "Recall might be : 0.761\n"
     ]
    }
   ],
   "source": [
    "scores = cross_val_score(estimator=search_scv.best_estimator_, X=sc_X.transform(X_train), y=sc_y.transform(y_train.reshape(-1, 1)), cv=5, scoring=recall_scorer)\n",
    "print('Recall might be : {:.3f}'.format(scores.mean()))"
   ]
  },
  {
   "cell_type": "code",
   "execution_count": 63,
   "metadata": {},
   "outputs": [
    {
     "name": "stdout",
     "output_type": "stream",
     "text": [
      "F1 might be : 0.734\n"
     ]
    }
   ],
   "source": [
    "scores = cross_val_score(estimator=search_scv.best_estimator_, X=sc_X.transform(X_train), y=sc_y.transform(y_train.reshape(-1, 1)), cv=5, scoring=F1_scorer)\n",
    "print('F1 might be : {:.3f}'.format(scores.mean()))"
   ]
  },
  {
   "cell_type": "code",
   "execution_count": 60,
   "metadata": {},
   "outputs": [
    {
     "name": "stdout",
     "output_type": "stream",
     "text": [
      "Accuracy might be : 0.728\n"
     ]
    }
   ],
   "source": [
    "scores = cross_val_score(estimator=classifier_cv, X=sc_X.transform(X_train), y=sc_y.transform(y_train.reshape(-1, 1)), cv=5, scoring=accuracy_scorer)\n",
    "print('Accuracy might be : {:.3f}'.format(scores.mean()))"
   ]
  }
 ],
 "metadata": {
  "kernelspec": {
   "display_name": "Python 3",
   "language": "python",
   "name": "python3"
  },
  "language_info": {
   "codemirror_mode": {
    "name": "ipython",
    "version": 3
   },
   "file_extension": ".py",
   "mimetype": "text/x-python",
   "name": "python",
   "nbconvert_exporter": "python",
   "pygments_lexer": "ipython3",
   "version": "3.7.5"
  }
 },
 "nbformat": 4,
 "nbformat_minor": 2
}
