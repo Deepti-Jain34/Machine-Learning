{
 "cells": [
  {
   "cell_type": "code",
   "execution_count": 1,
   "metadata": {},
   "outputs": [],
   "source": [
    "import numpy as np\n",
    "import pandas as pd"
   ]
  },
  {
   "cell_type": "code",
   "execution_count": 19,
   "metadata": {},
   "outputs": [
    {
     "data": {
      "text/html": [
       "<div>\n",
       "<style scoped>\n",
       "    .dataframe tbody tr th:only-of-type {\n",
       "        vertical-align: middle;\n",
       "    }\n",
       "\n",
       "    .dataframe tbody tr th {\n",
       "        vertical-align: top;\n",
       "    }\n",
       "\n",
       "    .dataframe thead th {\n",
       "        text-align: right;\n",
       "    }\n",
       "</style>\n",
       "<table border=\"1\" class=\"dataframe\">\n",
       "  <thead>\n",
       "    <tr style=\"text-align: right;\">\n",
       "      <th></th>\n",
       "      <th>ID</th>\n",
       "      <th>Onion</th>\n",
       "      <th>Potato</th>\n",
       "      <th>Burger</th>\n",
       "      <th>Milk</th>\n",
       "      <th>Beer</th>\n",
       "    </tr>\n",
       "  </thead>\n",
       "  <tbody>\n",
       "    <tr>\n",
       "      <th>0</th>\n",
       "      <td>1</td>\n",
       "      <td>1</td>\n",
       "      <td>1</td>\n",
       "      <td>1</td>\n",
       "      <td>0</td>\n",
       "      <td>0</td>\n",
       "    </tr>\n",
       "    <tr>\n",
       "      <th>1</th>\n",
       "      <td>2</td>\n",
       "      <td>0</td>\n",
       "      <td>1</td>\n",
       "      <td>1</td>\n",
       "      <td>1</td>\n",
       "      <td>0</td>\n",
       "    </tr>\n",
       "    <tr>\n",
       "      <th>2</th>\n",
       "      <td>3</td>\n",
       "      <td>0</td>\n",
       "      <td>0</td>\n",
       "      <td>0</td>\n",
       "      <td>1</td>\n",
       "      <td>1</td>\n",
       "    </tr>\n",
       "    <tr>\n",
       "      <th>3</th>\n",
       "      <td>4</td>\n",
       "      <td>1</td>\n",
       "      <td>1</td>\n",
       "      <td>0</td>\n",
       "      <td>1</td>\n",
       "      <td>0</td>\n",
       "    </tr>\n",
       "    <tr>\n",
       "      <th>4</th>\n",
       "      <td>5</td>\n",
       "      <td>1</td>\n",
       "      <td>1</td>\n",
       "      <td>1</td>\n",
       "      <td>0</td>\n",
       "      <td>1</td>\n",
       "    </tr>\n",
       "  </tbody>\n",
       "</table>\n",
       "</div>"
      ],
      "text/plain": [
       "   ID  Onion  Potato  Burger  Milk  Beer\n",
       "0   1      1       1       1     0     0\n",
       "1   2      0       1       1     1     0\n",
       "2   3      0       0       0     1     1\n",
       "3   4      1       1       0     1     0\n",
       "4   5      1       1       1     0     1"
      ]
     },
     "execution_count": 19,
     "metadata": {},
     "output_type": "execute_result"
    }
   ],
   "source": [
    "data  = pd.read_csv('SimpleData.csv')\n",
    "data.head()"
   ]
  },
  {
   "cell_type": "code",
   "execution_count": 20,
   "metadata": {},
   "outputs": [],
   "source": [
    "data = data.drop(columns=['ID'])"
   ]
  },
  {
   "cell_type": "code",
   "execution_count": 21,
   "metadata": {},
   "outputs": [],
   "source": [
    "from mlxtend.frequent_patterns import apriori, association_rules "
   ]
  },
  {
   "cell_type": "code",
   "execution_count": 22,
   "metadata": {},
   "outputs": [],
   "source": [
    "frq_items = apriori(data, min_support = 0.05, use_colnames = True) "
   ]
  },
  {
   "cell_type": "code",
   "execution_count": 23,
   "metadata": {},
   "outputs": [
    {
     "data": {
      "text/html": [
       "<div>\n",
       "<style scoped>\n",
       "    .dataframe tbody tr th:only-of-type {\n",
       "        vertical-align: middle;\n",
       "    }\n",
       "\n",
       "    .dataframe tbody tr th {\n",
       "        vertical-align: top;\n",
       "    }\n",
       "\n",
       "    .dataframe thead th {\n",
       "        text-align: right;\n",
       "    }\n",
       "</style>\n",
       "<table border=\"1\" class=\"dataframe\">\n",
       "  <thead>\n",
       "    <tr style=\"text-align: right;\">\n",
       "      <th></th>\n",
       "      <th>index</th>\n",
       "      <th>antecedents</th>\n",
       "      <th>consequents</th>\n",
       "      <th>antecedent support</th>\n",
       "      <th>consequent support</th>\n",
       "      <th>support</th>\n",
       "      <th>confidence</th>\n",
       "      <th>lift</th>\n",
       "      <th>leverage</th>\n",
       "      <th>conviction</th>\n",
       "    </tr>\n",
       "  </thead>\n",
       "  <tbody>\n",
       "    <tr>\n",
       "      <th>0</th>\n",
       "      <td>103</td>\n",
       "      <td>(Milk, Onion, Burger)</td>\n",
       "      <td>(Potato, Beer)</td>\n",
       "      <td>0.166667</td>\n",
       "      <td>0.333333</td>\n",
       "      <td>0.166667</td>\n",
       "      <td>1.0</td>\n",
       "      <td>3.0</td>\n",
       "      <td>0.111111</td>\n",
       "      <td>inf</td>\n",
       "    </tr>\n",
       "    <tr>\n",
       "      <th>1</th>\n",
       "      <td>56</td>\n",
       "      <td>(Potato, Beer)</td>\n",
       "      <td>(Onion, Burger)</td>\n",
       "      <td>0.333333</td>\n",
       "      <td>0.500000</td>\n",
       "      <td>0.333333</td>\n",
       "      <td>1.0</td>\n",
       "      <td>2.0</td>\n",
       "      <td>0.166667</td>\n",
       "      <td>inf</td>\n",
       "    </tr>\n",
       "    <tr>\n",
       "      <th>2</th>\n",
       "      <td>74</td>\n",
       "      <td>(Onion, Milk, Burger)</td>\n",
       "      <td>(Beer)</td>\n",
       "      <td>0.166667</td>\n",
       "      <td>0.500000</td>\n",
       "      <td>0.166667</td>\n",
       "      <td>1.0</td>\n",
       "      <td>2.0</td>\n",
       "      <td>0.083333</td>\n",
       "      <td>inf</td>\n",
       "    </tr>\n",
       "    <tr>\n",
       "      <th>3</th>\n",
       "      <td>96</td>\n",
       "      <td>(Milk, Potato, Onion, Burger)</td>\n",
       "      <td>(Beer)</td>\n",
       "      <td>0.166667</td>\n",
       "      <td>0.500000</td>\n",
       "      <td>0.166667</td>\n",
       "      <td>1.0</td>\n",
       "      <td>2.0</td>\n",
       "      <td>0.083333</td>\n",
       "      <td>inf</td>\n",
       "    </tr>\n",
       "    <tr>\n",
       "      <th>4</th>\n",
       "      <td>108</td>\n",
       "      <td>(Potato, Milk, Beer)</td>\n",
       "      <td>(Onion, Burger)</td>\n",
       "      <td>0.166667</td>\n",
       "      <td>0.500000</td>\n",
       "      <td>0.166667</td>\n",
       "      <td>1.0</td>\n",
       "      <td>2.0</td>\n",
       "      <td>0.083333</td>\n",
       "      <td>inf</td>\n",
       "    </tr>\n",
       "  </tbody>\n",
       "</table>\n",
       "</div>"
      ],
      "text/plain": [
       "   index                    antecedents      consequents  antecedent support  \\\n",
       "0    103          (Milk, Onion, Burger)   (Potato, Beer)            0.166667   \n",
       "1     56                 (Potato, Beer)  (Onion, Burger)            0.333333   \n",
       "2     74          (Onion, Milk, Burger)           (Beer)            0.166667   \n",
       "3     96  (Milk, Potato, Onion, Burger)           (Beer)            0.166667   \n",
       "4    108           (Potato, Milk, Beer)  (Onion, Burger)            0.166667   \n",
       "\n",
       "   consequent support   support  confidence  lift  leverage  conviction  \n",
       "0            0.333333  0.166667         1.0   3.0  0.111111         inf  \n",
       "1            0.500000  0.333333         1.0   2.0  0.166667         inf  \n",
       "2            0.500000  0.166667         1.0   2.0  0.083333         inf  \n",
       "3            0.500000  0.166667         1.0   2.0  0.083333         inf  \n",
       "4            0.500000  0.166667         1.0   2.0  0.083333         inf  "
      ]
     },
     "execution_count": 23,
     "metadata": {},
     "output_type": "execute_result"
    }
   ],
   "source": [
    "rules = association_rules(frq_items, metric =\"lift\", min_threshold = 1) \n",
    "rules = rules.sort_values(['confidence', 'lift'], ascending =[False, False]).reset_index()\n",
    "rules.head()"
   ]
  },
  {
   "cell_type": "code",
   "execution_count": 38,
   "metadata": {},
   "outputs": [],
   "source": [
    "data1 = data.replace(1, pd.Series(data.columns, data.columns))"
   ]
  },
  {
   "cell_type": "code",
   "execution_count": 40,
   "metadata": {},
   "outputs": [],
   "source": [
    "data1 = data1.replace(0,np.NaN)\n",
    "data1 = data1.apply(lambda x: list(map(str,x.to_list())), axis=1).to_list()"
   ]
  },
  {
   "cell_type": "code",
   "execution_count": 41,
   "metadata": {},
   "outputs": [],
   "source": [
    "from apyori import apriori as AP"
   ]
  },
  {
   "cell_type": "code",
   "execution_count": 57,
   "metadata": {},
   "outputs": [],
   "source": [
    "rules = AP(data1, min_support = .05, min_confidence = 0.05, min_lift = 2, min_length = 2)"
   ]
  },
  {
   "cell_type": "code",
   "execution_count": 58,
   "metadata": {},
   "outputs": [],
   "source": [
    "MB = list(rules)\n",
    "listRules = [list(MB[i][0]) for i in range(0,len(MB))]"
   ]
  },
  {
   "cell_type": "code",
   "execution_count": 59,
   "metadata": {},
   "outputs": [
    {
     "data": {
      "text/plain": [
       "[RelationRecord(items=frozenset({'Milk', 'Onion', 'Burger', 'Beer'}), support=0.16666666666666666, ordered_statistics=[OrderedStatistic(items_base=frozenset({'Beer'}), items_add=frozenset({'Onion', 'Milk', 'Burger'}), confidence=0.3333333333333333, lift=2.0), OrderedStatistic(items_base=frozenset({'Milk', 'Onion', 'Burger'}), items_add=frozenset({'Beer'}), confidence=1.0, lift=2.0)]),\n",
       " RelationRecord(items=frozenset({'Potato', 'Onion', 'Burger', 'Beer'}), support=0.3333333333333333, ordered_statistics=[OrderedStatistic(items_base=frozenset({'Potato', 'Beer'}), items_add=frozenset({'Onion', 'Burger'}), confidence=1.0, lift=2.0), OrderedStatistic(items_base=frozenset({'Onion', 'Burger'}), items_add=frozenset({'Potato', 'Beer'}), confidence=0.6666666666666666, lift=2.0)]),\n",
       " RelationRecord(items=frozenset({'Onion', 'Potato', 'Burger', 'Milk', 'Beer'}), support=0.16666666666666666, ordered_statistics=[OrderedStatistic(items_base=frozenset({'Beer'}), items_add=frozenset({'Milk', 'Potato', 'Onion', 'Burger'}), confidence=0.3333333333333333, lift=2.0), OrderedStatistic(items_base=frozenset({'Potato', 'Beer'}), items_add=frozenset({'Milk', 'Onion', 'Burger'}), confidence=0.5, lift=3.0), OrderedStatistic(items_base=frozenset({'Onion', 'Burger'}), items_add=frozenset({'Potato', 'Milk', 'Beer'}), confidence=0.3333333333333333, lift=2.0), OrderedStatistic(items_base=frozenset({'Potato', 'Milk', 'Beer'}), items_add=frozenset({'Onion', 'Burger'}), confidence=1.0, lift=2.0), OrderedStatistic(items_base=frozenset({'Milk', 'Onion', 'Burger'}), items_add=frozenset({'Potato', 'Beer'}), confidence=1.0, lift=3.0), OrderedStatistic(items_base=frozenset({'Milk', 'Potato', 'Onion', 'Burger'}), items_add=frozenset({'Beer'}), confidence=1.0, lift=2.0)]),\n",
       " RelationRecord(items=frozenset({'Onion', 'Potato', 'Burger', 'nan', 'Beer'}), support=0.16666666666666666, ordered_statistics=[OrderedStatistic(items_base=frozenset({'Onion', 'Burger'}), items_add=frozenset({'Potato', 'nan', 'Beer'}), confidence=0.3333333333333333, lift=2.0), OrderedStatistic(items_base=frozenset({'Potato', 'nan', 'Beer'}), items_add=frozenset({'Onion', 'Burger'}), confidence=1.0, lift=2.0)])]"
      ]
     },
     "execution_count": 59,
     "metadata": {},
     "output_type": "execute_result"
    }
   ],
   "source": [
    "MB"
   ]
  }
 ],
 "metadata": {
  "kernelspec": {
   "display_name": "Python 3",
   "language": "python",
   "name": "python3"
  },
  "language_info": {
   "codemirror_mode": {
    "name": "ipython",
    "version": 3
   },
   "file_extension": ".py",
   "mimetype": "text/x-python",
   "name": "python",
   "nbconvert_exporter": "python",
   "pygments_lexer": "ipython3",
   "version": "3.7.5"
  }
 },
 "nbformat": 4,
 "nbformat_minor": 2
}
