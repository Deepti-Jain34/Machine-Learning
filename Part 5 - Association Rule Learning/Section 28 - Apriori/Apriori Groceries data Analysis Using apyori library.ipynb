{
 "cells": [
  {
   "cell_type": "markdown",
   "metadata": {},
   "source": [
    "# Import main libraries"
   ]
  },
  {
   "cell_type": "code",
   "execution_count": 1,
   "metadata": {},
   "outputs": [],
   "source": [
    "import numpy as np\n",
    "import matplotlib.pyplot as plt\n",
    "import pandas as pd"
   ]
  },
  {
   "cell_type": "markdown",
   "metadata": {},
   "source": [
    "# Import data"
   ]
  },
  {
   "cell_type": "code",
   "execution_count": 2,
   "metadata": {},
   "outputs": [
    {
     "data": {
      "text/html": [
       "<div>\n",
       "<style scoped>\n",
       "    .dataframe tbody tr th:only-of-type {\n",
       "        vertical-align: middle;\n",
       "    }\n",
       "\n",
       "    .dataframe tbody tr th {\n",
       "        vertical-align: top;\n",
       "    }\n",
       "\n",
       "    .dataframe thead th {\n",
       "        text-align: right;\n",
       "    }\n",
       "</style>\n",
       "<table border=\"1\" class=\"dataframe\">\n",
       "  <thead>\n",
       "    <tr style=\"text-align: right;\">\n",
       "      <th></th>\n",
       "      <th>InvoiceNo</th>\n",
       "      <th>StockCode</th>\n",
       "      <th>Description</th>\n",
       "      <th>Quantity</th>\n",
       "      <th>InvoiceDate</th>\n",
       "      <th>UnitPrice</th>\n",
       "      <th>CustomerID</th>\n",
       "      <th>Country</th>\n",
       "    </tr>\n",
       "  </thead>\n",
       "  <tbody>\n",
       "    <tr>\n",
       "      <th>0</th>\n",
       "      <td>536389</td>\n",
       "      <td>22941</td>\n",
       "      <td>CHRISTMAS LIGHTS 10 REINDEER</td>\n",
       "      <td>6</td>\n",
       "      <td>2010-12-01 10:03:00</td>\n",
       "      <td>8.50</td>\n",
       "      <td>12431</td>\n",
       "      <td>Australia</td>\n",
       "    </tr>\n",
       "    <tr>\n",
       "      <th>1</th>\n",
       "      <td>536389</td>\n",
       "      <td>21622</td>\n",
       "      <td>VINTAGE UNION JACK CUSHION COVER</td>\n",
       "      <td>8</td>\n",
       "      <td>2010-12-01 10:03:00</td>\n",
       "      <td>4.95</td>\n",
       "      <td>12431</td>\n",
       "      <td>Australia</td>\n",
       "    </tr>\n",
       "    <tr>\n",
       "      <th>2</th>\n",
       "      <td>536389</td>\n",
       "      <td>21791</td>\n",
       "      <td>VINTAGE HEADS AND TAILS CARD GAME</td>\n",
       "      <td>12</td>\n",
       "      <td>2010-12-01 10:03:00</td>\n",
       "      <td>1.25</td>\n",
       "      <td>12431</td>\n",
       "      <td>Australia</td>\n",
       "    </tr>\n",
       "    <tr>\n",
       "      <th>3</th>\n",
       "      <td>536389</td>\n",
       "      <td>35004C</td>\n",
       "      <td>SET OF 3 COLOURED  FLYING DUCKS</td>\n",
       "      <td>6</td>\n",
       "      <td>2010-12-01 10:03:00</td>\n",
       "      <td>5.45</td>\n",
       "      <td>12431</td>\n",
       "      <td>Australia</td>\n",
       "    </tr>\n",
       "    <tr>\n",
       "      <th>4</th>\n",
       "      <td>536389</td>\n",
       "      <td>35004G</td>\n",
       "      <td>SET OF 3 GOLD FLYING DUCKS</td>\n",
       "      <td>4</td>\n",
       "      <td>2010-12-01 10:03:00</td>\n",
       "      <td>6.35</td>\n",
       "      <td>12431</td>\n",
       "      <td>Australia</td>\n",
       "    </tr>\n",
       "  </tbody>\n",
       "</table>\n",
       "</div>"
      ],
      "text/plain": [
       "  InvoiceNo StockCode                         Description  Quantity  \\\n",
       "0    536389     22941        CHRISTMAS LIGHTS 10 REINDEER         6   \n",
       "1    536389     21622    VINTAGE UNION JACK CUSHION COVER         8   \n",
       "2    536389     21791  VINTAGE HEADS AND TAILS CARD GAME         12   \n",
       "3    536389    35004C     SET OF 3 COLOURED  FLYING DUCKS         6   \n",
       "4    536389    35004G          SET OF 3 GOLD FLYING DUCKS         4   \n",
       "\n",
       "          InvoiceDate  UnitPrice  CustomerID    Country  \n",
       "0 2010-12-01 10:03:00       8.50       12431  Australia  \n",
       "1 2010-12-01 10:03:00       4.95       12431  Australia  \n",
       "2 2010-12-01 10:03:00       1.25       12431  Australia  \n",
       "3 2010-12-01 10:03:00       5.45       12431  Australia  \n",
       "4 2010-12-01 10:03:00       6.35       12431  Australia  "
      ]
     },
     "execution_count": 2,
     "metadata": {},
     "output_type": "execute_result"
    }
   ],
   "source": [
    "data = pd.read_excel('Australia Online Retail.xlsx') \n",
    "data.head() "
   ]
  },
  {
   "cell_type": "markdown",
   "metadata": {},
   "source": [
    "# Changing the data suitable for the library"
   ]
  },
  {
   "cell_type": "code",
   "execution_count": 3,
   "metadata": {},
   "outputs": [],
   "source": [
    "# Stripping extra spaces in the description \n",
    "data['Description'] = data['Description'].str.strip() "
   ]
  },
  {
   "cell_type": "code",
   "execution_count": 4,
   "metadata": {},
   "outputs": [],
   "source": [
    "data = (data.groupby(['InvoiceNo', 'Description'])['Quantity'] \n",
    "          .sum().unstack().reset_index().fillna(0) \n",
    "          .set_index('InvoiceNo'))"
   ]
  },
  {
   "cell_type": "code",
   "execution_count": 5,
   "metadata": {},
   "outputs": [],
   "source": [
    "def hot_encode(x): \n",
    "    if(x<= 0): \n",
    "        return np.NaN\n",
    "    if(x>= 1): \n",
    "        return 1"
   ]
  },
  {
   "cell_type": "code",
   "execution_count": 6,
   "metadata": {},
   "outputs": [],
   "source": [
    "data = data.applymap(hot_encode)"
   ]
  },
  {
   "cell_type": "code",
   "execution_count": 7,
   "metadata": {},
   "outputs": [],
   "source": [
    "data = data.replace(1, pd.Series(data.columns, data.columns))"
   ]
  },
  {
   "cell_type": "code",
   "execution_count": 8,
   "metadata": {},
   "outputs": [
    {
     "data": {
      "text/html": [
       "<div>\n",
       "<style scoped>\n",
       "    .dataframe tbody tr th:only-of-type {\n",
       "        vertical-align: middle;\n",
       "    }\n",
       "\n",
       "    .dataframe tbody tr th {\n",
       "        vertical-align: top;\n",
       "    }\n",
       "\n",
       "    .dataframe thead th {\n",
       "        text-align: right;\n",
       "    }\n",
       "</style>\n",
       "<table border=\"1\" class=\"dataframe\">\n",
       "  <thead>\n",
       "    <tr style=\"text-align: right;\">\n",
       "      <th>Description</th>\n",
       "      <th>10 COLOUR SPACEBOY PEN</th>\n",
       "      <th>12 PENCIL SMALL TUBE WOODLAND</th>\n",
       "      <th>12 PENCILS TALL TUBE POSY</th>\n",
       "      <th>12 PENCILS TALL TUBE RED RETROSPOT</th>\n",
       "      <th>16 PIECE CUTLERY SET PANTRY DESIGN</th>\n",
       "      <th>20 DOLLY PEGS RETROSPOT</th>\n",
       "      <th>3 HOOK HANGER MAGIC GARDEN</th>\n",
       "      <th>3 STRIPEY MICE FELTCRAFT</th>\n",
       "      <th>3 TIER CAKE TIN GREEN AND CREAM</th>\n",
       "      <th>3 TIER CAKE TIN RED AND CREAM</th>\n",
       "      <th>...</th>\n",
       "      <th>WRAP DOILEY DESIGN</th>\n",
       "      <th>WRAP DOLLY GIRL</th>\n",
       "      <th>WRAP ENGLISH ROSE</th>\n",
       "      <th>WRAP I LOVE LONDON</th>\n",
       "      <th>WRAP POPPIES  DESIGN</th>\n",
       "      <th>WRAP RED APPLES</th>\n",
       "      <th>WRAP RED VINTAGE DOILY</th>\n",
       "      <th>WRAP VINTAGE LEAF DESIGN</th>\n",
       "      <th>WRAP WEDDING DAY</th>\n",
       "      <th>YELLOW GIANT GARDEN THERMOMETER</th>\n",
       "    </tr>\n",
       "    <tr>\n",
       "      <th>InvoiceNo</th>\n",
       "      <th></th>\n",
       "      <th></th>\n",
       "      <th></th>\n",
       "      <th></th>\n",
       "      <th></th>\n",
       "      <th></th>\n",
       "      <th></th>\n",
       "      <th></th>\n",
       "      <th></th>\n",
       "      <th></th>\n",
       "      <th></th>\n",
       "      <th></th>\n",
       "      <th></th>\n",
       "      <th></th>\n",
       "      <th></th>\n",
       "      <th></th>\n",
       "      <th></th>\n",
       "      <th></th>\n",
       "      <th></th>\n",
       "      <th></th>\n",
       "      <th></th>\n",
       "    </tr>\n",
       "  </thead>\n",
       "  <tbody>\n",
       "    <tr>\n",
       "      <th>536389</th>\n",
       "      <td>NaN</td>\n",
       "      <td>NaN</td>\n",
       "      <td>NaN</td>\n",
       "      <td>NaN</td>\n",
       "      <td>NaN</td>\n",
       "      <td>NaN</td>\n",
       "      <td>NaN</td>\n",
       "      <td>NaN</td>\n",
       "      <td>NaN</td>\n",
       "      <td>NaN</td>\n",
       "      <td>...</td>\n",
       "      <td>NaN</td>\n",
       "      <td>NaN</td>\n",
       "      <td>NaN</td>\n",
       "      <td>NaN</td>\n",
       "      <td>NaN</td>\n",
       "      <td>NaN</td>\n",
       "      <td>NaN</td>\n",
       "      <td>NaN</td>\n",
       "      <td>NaN</td>\n",
       "      <td>NaN</td>\n",
       "    </tr>\n",
       "    <tr>\n",
       "      <th>537676</th>\n",
       "      <td>NaN</td>\n",
       "      <td>NaN</td>\n",
       "      <td>NaN</td>\n",
       "      <td>NaN</td>\n",
       "      <td>NaN</td>\n",
       "      <td>20 DOLLY PEGS RETROSPOT</td>\n",
       "      <td>NaN</td>\n",
       "      <td>NaN</td>\n",
       "      <td>NaN</td>\n",
       "      <td>NaN</td>\n",
       "      <td>...</td>\n",
       "      <td>NaN</td>\n",
       "      <td>NaN</td>\n",
       "      <td>NaN</td>\n",
       "      <td>NaN</td>\n",
       "      <td>NaN</td>\n",
       "      <td>NaN</td>\n",
       "      <td>NaN</td>\n",
       "      <td>NaN</td>\n",
       "      <td>NaN</td>\n",
       "      <td>NaN</td>\n",
       "    </tr>\n",
       "  </tbody>\n",
       "</table>\n",
       "<p>2 rows × 609 columns</p>\n",
       "</div>"
      ],
      "text/plain": [
       "Description 10 COLOUR SPACEBOY PEN 12 PENCIL SMALL TUBE WOODLAND  \\\n",
       "InvoiceNo                                                          \n",
       "536389                         NaN                           NaN   \n",
       "537676                         NaN                           NaN   \n",
       "\n",
       "Description 12 PENCILS TALL TUBE POSY 12 PENCILS TALL TUBE RED RETROSPOT  \\\n",
       "InvoiceNo                                                                  \n",
       "536389                            NaN                                NaN   \n",
       "537676                            NaN                                NaN   \n",
       "\n",
       "Description 16 PIECE CUTLERY SET PANTRY DESIGN  20 DOLLY PEGS RETROSPOT  \\\n",
       "InvoiceNo                                                                 \n",
       "536389                                     NaN                      NaN   \n",
       "537676                                     NaN  20 DOLLY PEGS RETROSPOT   \n",
       "\n",
       "Description 3 HOOK HANGER MAGIC GARDEN 3 STRIPEY MICE FELTCRAFT  \\\n",
       "InvoiceNo                                                         \n",
       "536389                             NaN                      NaN   \n",
       "537676                             NaN                      NaN   \n",
       "\n",
       "Description 3 TIER CAKE TIN GREEN AND CREAM 3 TIER CAKE TIN RED AND CREAM  \\\n",
       "InvoiceNo                                                                   \n",
       "536389                                  NaN                           NaN   \n",
       "537676                                  NaN                           NaN   \n",
       "\n",
       "Description  ... WRAP DOILEY DESIGN WRAP DOLLY GIRL WRAP ENGLISH ROSE  \\\n",
       "InvoiceNo    ...                                                        \n",
       "536389       ...                NaN             NaN               NaN   \n",
       "537676       ...                NaN             NaN               NaN   \n",
       "\n",
       "Description WRAP I LOVE LONDON WRAP POPPIES  DESIGN WRAP RED APPLES  \\\n",
       "InvoiceNo                                                             \n",
       "536389                     NaN                  NaN             NaN   \n",
       "537676                     NaN                  NaN             NaN   \n",
       "\n",
       "Description WRAP RED VINTAGE DOILY WRAP VINTAGE LEAF DESIGN WRAP WEDDING DAY  \\\n",
       "InvoiceNo                                                                      \n",
       "536389                         NaN                      NaN              NaN   \n",
       "537676                         NaN                      NaN              NaN   \n",
       "\n",
       "Description YELLOW GIANT GARDEN THERMOMETER  \n",
       "InvoiceNo                                    \n",
       "536389                                  NaN  \n",
       "537676                                  NaN  \n",
       "\n",
       "[2 rows x 609 columns]"
      ]
     },
     "execution_count": 8,
     "metadata": {},
     "output_type": "execute_result"
    }
   ],
   "source": [
    "data.head(2)"
   ]
  },
  {
   "cell_type": "code",
   "execution_count": 9,
   "metadata": {},
   "outputs": [],
   "source": [
    "data = data.apply(lambda x: list(map(str,x.to_list())), axis=1).to_list()"
   ]
  },
  {
   "cell_type": "markdown",
   "metadata": {},
   "source": [
    "# Training Apriori on the dataset"
   ]
  },
  {
   "cell_type": "code",
   "execution_count": 10,
   "metadata": {},
   "outputs": [],
   "source": [
    "from apyori import apriori"
   ]
  },
  {
   "cell_type": "code",
   "execution_count": 11,
   "metadata": {},
   "outputs": [],
   "source": [
    "rules = apriori(data, min_support = .05, min_confidence = 0.2, min_lift = 3, min_length = 2)"
   ]
  },
  {
   "cell_type": "markdown",
   "metadata": {},
   "source": [
    "# Visualising the results"
   ]
  },
  {
   "cell_type": "code",
   "execution_count": 12,
   "metadata": {},
   "outputs": [
    {
     "data": {
      "text/plain": [
       "[RelationRecord(items=frozenset({'RED RETROSPOT CAKE STAND', '36 PENCILS TUBE RED RETROSPOT'}), support=0.057971014492753624, ordered_statistics=[OrderedStatistic(items_base=frozenset({'36 PENCILS TUBE RED RETROSPOT'}), items_add=frozenset({'RED RETROSPOT CAKE STAND'}), confidence=1.0, lift=17.25), OrderedStatistic(items_base=frozenset({'RED RETROSPOT CAKE STAND'}), items_add=frozenset({'36 PENCILS TUBE RED RETROSPOT'}), confidence=1.0, lift=17.25)]),\n",
       " RelationRecord(items=frozenset({'SET OF 3 CAKE TINS PANTRY DESIGN', '36 PENCILS TUBE RED RETROSPOT'}), support=0.057971014492753624, ordered_statistics=[OrderedStatistic(items_base=frozenset({'36 PENCILS TUBE RED RETROSPOT'}), items_add=frozenset({'SET OF 3 CAKE TINS PANTRY DESIGN'}), confidence=1.0, lift=7.666666666666667), OrderedStatistic(items_base=frozenset({'SET OF 3 CAKE TINS PANTRY DESIGN'}), items_add=frozenset({'36 PENCILS TUBE RED RETROSPOT'}), confidence=0.4444444444444445, lift=7.666666666666667)]),\n",
       " RelationRecord(items=frozenset({'4 TRADITIONAL SPINNING TOPS', 'SET OF 6 SOLDIER SKITTLES'}), support=0.057971014492753624, ordered_statistics=[OrderedStatistic(items_base=frozenset({'4 TRADITIONAL SPINNING TOPS'}), items_add=frozenset({'SET OF 6 SOLDIER SKITTLES'}), confidence=0.7999999999999999, lift=7.885714285714284), OrderedStatistic(items_base=frozenset({'SET OF 6 SOLDIER SKITTLES'}), items_add=frozenset({'4 TRADITIONAL SPINNING TOPS'}), confidence=0.5714285714285714, lift=7.885714285714285)]),\n",
       " RelationRecord(items=frozenset({'ALARM CLOCK BAKELIKE RED', 'ALARM CLOCK BAKELIKE GREEN'}), support=0.08695652173913043, ordered_statistics=[OrderedStatistic(items_base=frozenset({'ALARM CLOCK BAKELIKE GREEN'}), items_add=frozenset({'ALARM CLOCK BAKELIKE RED'}), confidence=1.0, lift=11.5), OrderedStatistic(items_base=frozenset({'ALARM CLOCK BAKELIKE RED'}), items_add=frozenset({'ALARM CLOCK BAKELIKE GREEN'}), confidence=1.0, lift=11.5)]),\n",
       " RelationRecord(items=frozenset({'ALARM CLOCK BAKELIKE GREEN', 'RED DINER WALL CLOCK'}), support=0.057971014492753624, ordered_statistics=[OrderedStatistic(items_base=frozenset({'ALARM CLOCK BAKELIKE GREEN'}), items_add=frozenset({'RED DINER WALL CLOCK'}), confidence=0.6666666666666667, lift=11.500000000000002), OrderedStatistic(items_base=frozenset({'RED DINER WALL CLOCK'}), items_add=frozenset({'ALARM CLOCK BAKELIKE GREEN'}), confidence=1.0, lift=11.5)])]"
      ]
     },
     "execution_count": 12,
     "metadata": {},
     "output_type": "execute_result"
    }
   ],
   "source": [
    "list(rules)[:5]"
   ]
  }
 ],
 "metadata": {
  "kernelspec": {
   "display_name": "Python 3",
   "language": "python",
   "name": "python3"
  },
  "language_info": {
   "codemirror_mode": {
    "name": "ipython",
    "version": 3
   },
   "file_extension": ".py",
   "mimetype": "text/x-python",
   "name": "python",
   "nbconvert_exporter": "python",
   "pygments_lexer": "ipython3",
   "version": "3.7.5"
  }
 },
 "nbformat": 4,
 "nbformat_minor": 2
}
